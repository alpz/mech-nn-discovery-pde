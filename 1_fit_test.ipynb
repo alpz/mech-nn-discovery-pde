{
 "cells": [
  {
   "cell_type": "code",
   "execution_count": null,
   "id": "68caa357-9f45-4ad9-9f93-08e052a99a3b",
   "metadata": {
    "tags": []
   },
   "outputs": [],
   "source": [
    "import torch\n",
    "import fit.sine as T\n",
    "import numpy as np\n",
    "\n",
    "from IPython.display import HTML\n",
    "from matplotlib.animation import FuncAnimation\n",
    "import matplotlib.pyplot as plt\n",
    "\n",
    "%matplotlib inline\n",
    "torch.set_printoptions(precision=4, linewidth=500, sci_mode=True)"
   ]
  },
  {
   "cell_type": "markdown",
   "id": "0a7df7b8-be73-4219-92f7-b7fa9127d721",
   "metadata": {},
   "source": [
    "Test fitting an exponentially damped noisy sine wave with a second order ODE"
   ]
  },
  {
   "cell_type": "code",
   "execution_count": null,
   "id": "cba835f0-4188-4313-9721-14048ece6e9f",
   "metadata": {
    "tags": []
   },
   "outputs": [],
   "source": [
    "T.train()"
   ]
  },
  {
   "cell_type": "code",
   "execution_count": null,
   "id": "e23ad1f3-b6cc-4739-a423-8e6d924c5494",
   "metadata": {
    "tags": []
   },
   "outputs": [],
   "source": [
    "end = T.method.model.end\n",
    "n_step = T.method.model.n_step\n",
    "_y = np.linspace(0, end, n_step)"
   ]
  },
  {
   "cell_type": "code",
   "execution_count": null,
   "id": "9a00d4c7-0fa0-4b50-b6f7-78fe6569737c",
   "metadata": {
    "tags": []
   },
   "outputs": [],
   "source": [
    "func_list = T.method.func_list\n",
    "y_list = T.method.y_list\n",
    "n_iter =500"
   ]
  },
  {
   "cell_type": "code",
   "execution_count": null,
   "id": "9c900ecc-7635-46ce-baf4-45820447f50a",
   "metadata": {
    "tags": []
   },
   "outputs": [],
   "source": [
    "\n",
    "fig, ax = plt.subplots(1,1)\n",
    "ax.set_xlim((0,end))\n",
    "ax.set_ylim((-3,3))\n",
    "\n",
    "line1, = ax.plot([], [])\n",
    "line2, = ax.plot([], [])\n",
    "\n",
    "\n",
    "def animate(t):\n",
    "    line1.set_data(_y,y_list[5*t])\n",
    "    line2.set_data(_y,func_list[5*t])\n",
    "    return line1,\n",
    "anim = FuncAnimation(fig, animate, frames=100, interval=20, blit=True)\n",
    "\n",
    "HTML(anim.to_html5_video())"
   ]
  },
  {
   "cell_type": "code",
   "execution_count": null,
   "id": "18ddf24b-5162-488e-adf8-82f156cafeca",
   "metadata": {},
   "outputs": [],
   "source": []
  }
 ],
 "metadata": {
  "kernelspec": {
   "display_name": "Python 3 (ipykernel)",
   "language": "python",
   "name": "python3"
  },
  "language_info": {
   "codemirror_mode": {
    "name": "ipython",
    "version": 3
   },
   "file_extension": ".py",
   "mimetype": "text/x-python",
   "name": "python",
   "nbconvert_exporter": "python",
   "pygments_lexer": "ipython3",
   "version": "3.8.18"
  }
 },
 "nbformat": 4,
 "nbformat_minor": 5
}
