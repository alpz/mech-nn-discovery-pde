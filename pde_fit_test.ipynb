{
 "cells": [
  {
   "cell_type": "code",
   "execution_count": null,
   "id": "68caa357-9f45-4ad9-9f93-08e052a99a3b",
   "metadata": {
    "tags": []
   },
   "outputs": [],
   "source": [
    "import os\n",
    "#os.environ['CUDA_VISIBLE_DEVICES'] = \"0\"\n",
    "import torch\n",
    "\n",
    "import fit.sine_pde_dense as T\n",
    "import numpy as np\n",
    "\n",
    "from IPython.display import HTML\n",
    "from matplotlib.animation import FuncAnimation\n",
    "import matplotlib.pyplot as plt\n",
    "\n",
    "%matplotlib inline\n",
    "torch.set_printoptions(precision=4, linewidth=500, sci_mode=True)"
   ]
  },
  {
   "cell_type": "markdown",
   "id": "3a2d3e9b",
   "metadata": {},
   "source": [
    "### Data Fitting Example\n",
    "### 1. Fit PDE with time varying source term\n",
    "\n",
    "Learns a PDE with time-space invariant coeffcient and a time-space varying source term. This makes the model flexible and easier to learn."
   ]
  },
  {
   "cell_type": "code",
   "execution_count": null,
   "id": "f75fd5de",
   "metadata": {},
   "outputs": [],
   "source": [
    "method, dataset = T.create_model(time_varying_source=True)"
   ]
  },
  {
   "cell_type": "code",
   "execution_count": null,
   "id": "cba835f0-4188-4313-9721-14048ece6e9f",
   "metadata": {
    "tags": []
   },
   "outputs": [],
   "source": [
    "T.train(method, dataset, epochs=100)"
   ]
  },
  {
   "cell_type": "code",
   "execution_count": null,
   "id": "e23ad1f3-b6cc-4739-a423-8e6d924c5494",
   "metadata": {
    "tags": []
   },
   "outputs": [],
   "source": [
    "#end = T.method.model.end\n",
    "coord_dims = method.model.coord_dims\n",
    "target = dataset.y\n",
    "damp = dataset.damp"
   ]
  },
  {
   "cell_type": "code",
   "execution_count": null,
   "id": "9a00d4c7-0fa0-4b50-b6f7-78fe6569737c",
   "metadata": {
    "tags": []
   },
   "outputs": [],
   "source": [
    "func_list = method.func_list\n",
    "y_list = method.y_list\n",
    "#n_iter =500"
   ]
  },
  {
   "cell_type": "code",
   "execution_count": null,
   "id": "6efd6858-4088-4f17-9aeb-eda91d66a4d8",
   "metadata": {},
   "outputs": [],
   "source": [
    "fig, ax = plt.subplots(1,2)\n",
    "cax0 = ax[0].pcolormesh(y_list[-1].reshape(*coord_dims), cmap='RdBu', shading='gouraud')\n",
    "cax1= ax[1].pcolormesh(func_list[-1].reshape(*coord_dims), cmap='RdBu', shading='gouraud')\n",
    "\n",
    "def animate(i):\n",
    "   cax0.set_array(y_list[i].reshape(*coord_dims).flatten())\n",
    "   cax1.set_array(func_list[i].reshape(*coord_dims).flatten())\n",
    "\n",
    "   ax[0].axis('off')\n",
    "   ax[1].axis('off')\n",
    "\n",
    "anim = FuncAnimation(fig, animate, interval=100, frames=len(func_list))\n",
    "HTML(anim.to_html5_video())"
   ]
  },
  {
   "cell_type": "markdown",
   "id": "18ddf24b-5162-488e-adf8-82f156cafeca",
   "metadata": {},
   "source": [
    "### 2. Fit without Source Term\n",
    "\n",
    "Fits a PDE with time-space invariant coeffcient and no source term."
   ]
  },
  {
   "cell_type": "code",
   "execution_count": null,
   "id": "c9f5a3a7",
   "metadata": {},
   "outputs": [],
   "source": [
    "del method, dataset\n",
    "method, dataset = T.create_model(time_varying_source=False)"
   ]
  },
  {
   "cell_type": "code",
   "execution_count": null,
   "id": "627eb868",
   "metadata": {},
   "outputs": [],
   "source": [
    "method.model.time_varying_source"
   ]
  },
  {
   "cell_type": "code",
   "execution_count": null,
   "id": "f5833bb1",
   "metadata": {},
   "outputs": [],
   "source": [
    "T.train(method, dataset, epochs=100)"
   ]
  },
  {
   "cell_type": "code",
   "execution_count": null,
   "id": "afcea103",
   "metadata": {},
   "outputs": [],
   "source": [
    "func_list = method.func_list\n",
    "y_list = method.y_list\n",
    "#n_iter =500"
   ]
  },
  {
   "cell_type": "code",
   "execution_count": null,
   "id": "c043680c",
   "metadata": {},
   "outputs": [],
   "source": [
    "fig, ax = plt.subplots(1,2)\n",
    "cax0 = ax[0].pcolormesh(y_list[-1].reshape(*coord_dims), cmap='RdBu', shading='gouraud')\n",
    "cax1= ax[1].pcolormesh(func_list[-1].reshape(*coord_dims), cmap='RdBu', shading='gouraud')\n",
    "\n",
    "def animate(i):\n",
    "   cax0.set_array(y_list[i].reshape(*coord_dims).flatten())\n",
    "   cax1.set_array(func_list[i].reshape(*coord_dims).flatten())\n",
    "\n",
    "   ax[0].axis('off')\n",
    "   ax[1].axis('off')\n",
    "\n",
    "anim = FuncAnimation(fig, animate, interval=100, frames=len(func_list))\n",
    "HTML(anim.to_html5_video())"
   ]
  },
  {
   "cell_type": "code",
   "execution_count": null,
   "id": "bfdcfd6c",
   "metadata": {},
   "outputs": [],
   "source": []
  }
 ],
 "metadata": {
  "kernelspec": {
   "display_name": "lppde",
   "language": "python",
   "name": "python3"
  },
  "language_info": {
   "codemirror_mode": {
    "name": "ipython",
    "version": 3
   },
   "file_extension": ".py",
   "mimetype": "text/x-python",
   "name": "python",
   "nbconvert_exporter": "python",
   "pygments_lexer": "ipython3",
   "version": "3.8.18"
  }
 },
 "nbformat": 4,
 "nbformat_minor": 5
}
